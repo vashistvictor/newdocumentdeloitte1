{
 "cells": [
  {
   "cell_type": "code",
   "execution_count": 87,
   "id": "6c133022",
   "metadata": {},
   "outputs": [],
   "source": [
    "class BankServices:\n",
    "    value1 = 500000\n",
    "    def __init__(self, amount):\n",
    "        self.total = amount\n",
    "    def deposite(self, value):\n",
    "        self.total = self.total + value\n",
    "        return self.total\n",
    "    def withdraw(self, value):\n",
    "        if(value > self.total):\n",
    "            return \"Amount is more than the balance\"\n",
    "        else:\n",
    "            self.total = self.total - value\n",
    "            return self.total\n",
    "    def account_summary(self):\n",
    "        s1 = \"Name: Rahul\"\n",
    "        s2 = \"Account_type: Savings\"\n",
    "        s3 = \"Bank: ABC\"\n",
    "        print(s1)\n",
    "        print(s2)\n",
    "        print(s3)\n",
    "    @classmethod\n",
    "    def limit(cls):\n",
    "        print(\"The maximum limit of this account is:\",cls.value1)\n",
    "    @staticmethod\n",
    "    def services(service):\n",
    "        list1 = ['deposit','withdraw']\n",
    "        if service in list1:\n",
    "            print(\"This service is available in this bank\")\n",
    "        else:\n",
    "            print(\"This service is not available in this bank\")\n",
    "obj = BankServices(50000)"
   ]
  },
  {
   "cell_type": "code",
   "execution_count": 88,
   "id": "9ef41a1a",
   "metadata": {},
   "outputs": [
    {
     "data": {
      "text/plain": [
       "52000"
      ]
     },
     "execution_count": 88,
     "metadata": {},
     "output_type": "execute_result"
    }
   ],
   "source": [
    "obj.deposite(2000)"
   ]
  },
  {
   "cell_type": "code",
   "execution_count": 89,
   "id": "bb2c49e4",
   "metadata": {},
   "outputs": [
    {
     "data": {
      "text/plain": [
       "26000"
      ]
     },
     "execution_count": 89,
     "metadata": {},
     "output_type": "execute_result"
    }
   ],
   "source": [
    "obj.withdraw(26000)"
   ]
  },
  {
   "cell_type": "code",
   "execution_count": 74,
   "id": "1711ce8b",
   "metadata": {},
   "outputs": [
    {
     "name": "stdout",
     "output_type": "stream",
     "text": [
      "The maximum limit of this account is: 500000\n"
     ]
    }
   ],
   "source": [
    "obj.limit()"
   ]
  },
  {
   "cell_type": "code",
   "execution_count": 75,
   "id": "2f952c96",
   "metadata": {},
   "outputs": [
    {
     "name": "stdout",
     "output_type": "stream",
     "text": [
      "This service is not available in this bank\n"
     ]
    }
   ],
   "source": [
    "obj.services('transfer')"
   ]
  },
  {
   "cell_type": "code",
   "execution_count": 73,
   "id": "17115edf",
   "metadata": {},
   "outputs": [
    {
     "name": "stdout",
     "output_type": "stream",
     "text": [
      "Name: Rahul\n",
      "Account_type: Savings\n",
      "Bank: ABC\n"
     ]
    }
   ],
   "source": [
    "obj.account_summary()"
   ]
  }
 ],
 "metadata": {
  "kernelspec": {
   "display_name": "Python 3 (ipykernel)",
   "language": "python",
   "name": "python3"
  },
  "language_info": {
   "codemirror_mode": {
    "name": "ipython",
    "version": 3
   },
   "file_extension": ".py",
   "mimetype": "text/x-python",
   "name": "python",
   "nbconvert_exporter": "python",
   "pygments_lexer": "ipython3",
   "version": "3.9.13"
  }
 },
 "nbformat": 4,
 "nbformat_minor": 5
}
